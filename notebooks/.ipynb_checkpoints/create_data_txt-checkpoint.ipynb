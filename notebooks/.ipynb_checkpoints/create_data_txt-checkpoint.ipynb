{
 "cells": [
  {
   "cell_type": "code",
   "execution_count": 107,
   "metadata": {},
   "outputs": [],
   "source": [
    "import os\n",
    "from os.path import expanduser\n",
    "import numpy as np\n",
    "import os\n",
    "\n",
    "RELATIVE_DATA_DIR = 'imageVelDataset/augmented_data/' \n",
    "DATA_DIR = os.path.join(expanduser(\"~\"), 'Traversability_project/' + RELATIVE_DATA_DIR )  \n",
    "TXT_DIR = os.path.join(expanduser(\"~\"), 'Traversability_project/imageVelDataset/augmented_data_txt' ) \n",
    "\n",
    "classes_amount = len(os.listdir(DATA_DIR))\n",
    "\n",
    "train_percentage = 0.7\n",
    "train_list = []\n",
    "test_list = []\n",
    "\n",
    "for image_class in xrange(classes_amount):\n",
    "    #List names of the images names by calss \n",
    "    class_name = 'class_' + str(image_class) +'/'  \n",
    "    images_of_class = [RELATIVE_DATA_DIR + class_name + image  for image in os.listdir(os.path.join(DATA_DIR + class_name))]\n",
    "    \n",
    "    train_list.append(images_of_class[:int(len(images_of_class)*train_percentage)])\n",
    "    test_list.append(images_of_class[int(len(images_of_class)*train_percentage):])\n",
    "\n",
    "#Train file  \n",
    "with open('{}/train.txt'.format(TXT_DIR), 'w') as f:\n",
    "    \n",
    "    for image_class in xrange(classes_amount):\n",
    "        \n",
    "        for image in train_list[image_class]:\n",
    "            f.write('{} {}\\n'.format(image, image_class))\n",
    "        \n",
    "    f.close()\n",
    "        \n",
    "#Test file  \n",
    "\n",
    "with open('{}/test.txt'.format(TXT_DIR), 'w') as f:\n",
    "    \n",
    "    for image_class in xrange(classes_amount):\n",
    "        \n",
    "        for image in test_list[image_class]:\n",
    "            f.write('{} {}\\n'.format(image, image_class))\n",
    "        \n",
    "    f.close()"
   ]
  },
  {
   "cell_type": "markdown",
   "metadata": {},
   "source": [
    "Fuente: https://chunml.github.io/ChunML.github.io/project/Training-Your-Own-Data-On-Caffe/"
   ]
  }
 ],
 "metadata": {
  "kernelspec": {
   "display_name": "Python 2",
   "language": "python",
   "name": "python2"
  },
  "language_info": {
   "codemirror_mode": {
    "name": "ipython",
    "version": 2
   },
   "file_extension": ".py",
   "mimetype": "text/x-python",
   "name": "python",
   "nbconvert_exporter": "python",
   "pygments_lexer": "ipython2",
   "version": "2.7.13"
  }
 },
 "nbformat": 4,
 "nbformat_minor": 2
}
