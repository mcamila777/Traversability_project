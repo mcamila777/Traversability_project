{
 "cells": [
  {
   "cell_type": "code",
   "execution_count": null,
   "metadata": {
    "collapsed": false
   },
   "outputs": [],
   "source": [
    "import numpy as np\n",
    "import cv2\n",
    "\n",
    "cap = cv2.VideoCapture('20170518_162932.avi')\n",
    "\n",
    "while(cap.isOpened()):\n",
    "    ret, frame = cap.read()\n",
    "\n",
    "    gray = cv2.cvtColor(frame, cv2.COLOR_BGR2GRAY)\n",
    "\n",
    "    cv2.imshow('frame',gray)\n",
    "    if cv2.waitKey(1) & 0xFF == ord('q'):\n",
    "        break\n",
    "\n",
    "cap.release()\n",
    "cv2.destroyAllWindows()"
   ]
  },
  {
   "cell_type": "code",
   "execution_count": 7,
   "metadata": {
    "collapsed": false
   },
   "outputs": [],
   "source": []
  },
  {
   "cell_type": "code",
   "execution_count": null,
   "metadata": {
    "collapsed": false,
    "scrolled": true
   },
   "outputs": [],
   "source": []
  },
  {
   "cell_type": "markdown",
   "metadata": {},
   "source": []
  },
  {
   "cell_type": "code",
   "execution_count": 36,
   "metadata": {
    "collapsed": false
   },
   "outputs": [
    {
     "name": "stdout",
     "output_type": "stream",
     "text": [
      "('Examples shape:', (26, 92160))\n"
     ]
    }
   ],
   "source": [
    "import numpy as np\n",
    "from sklearn.svm import SVR\n",
    "import cv2\n",
    "import os\n",
    "\n",
    "path = \"examp_feat_maps/\"\n",
    "\n",
    "feat_names = os.listdir(path)\n",
    "all_feat = []\n",
    "#Read images\n",
    "for filename in feat_names:\n",
    "    #Load feature map\n",
    "    array = np.load(os.path.join(path, filename)) \n",
    "    xi = array.flatten()\n",
    "    \n",
    "    all_feat.append(xi)\n",
    "    \n",
    "all_feat = np.asarray(all_feat)\n",
    "\n",
    "print(\"Examples shape:\" , all_feat.shape)"
   ]
  },
  {
   "cell_type": "code",
   "execution_count": 55,
   "metadata": {
    "collapsed": false,
    "scrolled": true
   },
   "outputs": [
    {
     "name": "stdout",
     "output_type": "stream",
     "text": [
      "(25, 2)\n"
     ]
    },
    {
     "data": {
      "text/plain": [
       "array([[ 1.        ,  0.        ],\n",
       "       [-0.83907153, -0.54402111],\n",
       "       [ 1.        ,  0.        ],\n",
       "       [ 0.93799475,  0.34664946],\n",
       "       [ 1.        ,  0.        ],\n",
       "       [ 1.        ,  0.        ],\n",
       "       [ 1.        ,  0.        ],\n",
       "       [-0.83907153, -0.54402111],\n",
       "       [ 1.        ,  0.        ],\n",
       "       [ 1.        ,  0.        ],\n",
       "       [-0.83907153, -0.54402111],\n",
       "       [-0.83907153, -0.54402111],\n",
       "       [-0.83907153, -0.54402111],\n",
       "       [ 1.        ,  0.        ],\n",
       "       [ 1.        ,  0.        ],\n",
       "       [-0.83907153, -0.54402111],\n",
       "       [ 1.        ,  0.        ],\n",
       "       [ 0.93799475,  0.34664946],\n",
       "       [-0.83907153, -0.54402111],\n",
       "       [ 1.        ,  0.        ],\n",
       "       [ 1.        ,  0.        ],\n",
       "       [ 0.93799475,  0.34664946],\n",
       "       [ 0.93799475,  0.34664946],\n",
       "       [ 1.        ,  0.        ],\n",
       "       [ 0.93799475,  0.34664946]])"
      ]
     },
     "execution_count": 55,
     "metadata": {},
     "output_type": "execute_result"
    }
   ],
   "source": [
    "#Test feature maps\n",
    "#Front: [1 , 0 ] \n",
    "#Right: [math.cos(10) , math.sin(10)]\n",
    "#Left: [math.cos(170) , math.sin(170)]\n",
    "\n",
    "y =  np.array([[1 , 0 ], \n",
    "               [math.cos(10) , math.sin(10)], \n",
    "               [1 , 0 ],\n",
    "               [math.cos(170) , math.sin(170)], \n",
    "               [1 , 0 ], \n",
    "               [1 , 0 ], \n",
    "               [1 , 0 ],\n",
    "               [math.cos(10) , math.sin(10)], \n",
    "               [1 , 0 ], \n",
    "               [1 , 0 ], \n",
    "               [math.cos(10), math.sin(10)],\n",
    "               [math.cos(10) , math.sin(10)],\n",
    "               [math.cos(10) , math.sin(10)],  \n",
    "               [1 , 0 ], \n",
    "               [1 , 0 ], \n",
    "               [math.cos(10) , math.sin(10)],\n",
    "               [1 , 0 ],\n",
    "               [math.cos(170) , math.sin(170)],\n",
    "               [math.cos(10) , math.sin(10)],\n",
    "               [1 , 0 ],\n",
    "               [1 , 0 ],\n",
    "               [math.cos(170) , math.sin(170)],\n",
    "               [math.cos(170) , math.sin(170)],\n",
    "               [1 , 0 ],\n",
    "               [math.cos(170) , math.sin(170)] ])#,\n",
    "               #[1 , 0 ]]) \n",
    "print(y .shape)\n",
    "y"
   ]
  },
  {
   "cell_type": "code",
   "execution_count": 56,
   "metadata": {
    "collapsed": false,
    "scrolled": true
   },
   "outputs": [
    {
     "name": "stdout",
     "output_type": "stream",
     "text": [
      "(25, 92160)\n"
     ]
    },
    {
     "data": {
      "text/plain": [
       "VectorRegression(estimator=SVR(C=1.0, cache_size=200, coef0=0.0, degree=3, epsilon=0.1, gamma='auto',\n",
       "  kernel='rbf', max_iter=-1, shrinking=True, tol=0.001, verbose=False))"
      ]
     },
     "execution_count": 56,
     "metadata": {},
     "output_type": "execute_result"
    }
   ],
   "source": [
    "import math\n",
    "\n",
    "X = all_feat[0:-1,:]\n",
    "\n",
    "print(X .shape)\n",
    "\n",
    "#Regressor: scikit-learn estimator\n",
    "clf = SVR()\n",
    "#Multidimensional regresor\n",
    "r = VectorRegression(clf)\n",
    "r.fit(X,y)"
   ]
  },
  {
   "cell_type": "code",
   "execution_count": 59,
   "metadata": {
    "collapsed": false,
    "scrolled": true
   },
   "outputs": [
    {
     "name": "stderr",
     "output_type": "stream",
     "text": [
      "/home/mcalvarez/anaconda2/lib/python2.7/site-packages/sklearn/utils/validation.py:395: DeprecationWarning: Passing 1d arrays as data is deprecated in 0.17 and will raise ValueError in 0.19. Reshape your data either using X.reshape(-1, 1) if your data has a single feature or X.reshape(1, -1) if it contains a single sample.\n",
      "  DeprecationWarning)\n",
      "/home/mcalvarez/anaconda2/lib/python2.7/site-packages/sklearn/utils/validation.py:395: DeprecationWarning: Passing 1d arrays as data is deprecated in 0.17 and will raise ValueError in 0.19. Reshape your data either using X.reshape(-1, 1) if your data has a single feature or X.reshape(1, -1) if it contains a single sample.\n",
      "  DeprecationWarning)\n"
     ]
    },
    {
     "data": {
      "text/plain": [
       "array([[ 0.83792907,  0.20846471]])"
      ]
     },
     "execution_count": 59,
     "metadata": {},
     "output_type": "execute_result"
    }
   ],
   "source": [
    "y_pred = r.predict(X[-1, :])\n",
    "y_pred"
   ]
  },
  {
   "cell_type": "code",
   "execution_count": 62,
   "metadata": {
    "collapsed": false,
    "scrolled": true
   },
   "outputs": [
    {
     "data": {
      "text/plain": [
       "0.0"
      ]
     },
     "execution_count": 62,
     "metadata": {},
     "output_type": "execute_result"
    }
   ],
   "source": [
    "diff = y - y_pred\n",
    "percent = 100.*(np.where((diff == 0) | (abs(diff)<1e-05))[0].shape[0])\n",
    "percent"
   ]
  },
  {
   "cell_type": "markdown",
   "metadata": {},
   "source": [
    "# -------------------------------- "
   ]
  },
  {
   "cell_type": "code",
   "execution_count": null,
   "metadata": {
    "collapsed": false
   },
   "outputs": [],
   "source": [
    "import numpy as np\n",
    "\n",
    "x =  np.zeros([2,3])\n",
    "y =  np.zeros([2,3])\n",
    "\n",
    "y[1,:] = 1\n",
    "print(\"x\", x)\n",
    "print(\"y\", y)\n",
    "\n",
    "x[y == 1] = 255\n",
    "\n",
    "print(\"x\", x)\n",
    "print(\"y\", y)\n",
    "\n",
    "y == 1"
   ]
  },
  {
   "cell_type": "code",
   "execution_count": null,
   "metadata": {
    "collapsed": false
   },
   "outputs": [],
   "source": [
    "cap.isOpened()"
   ]
  },
  {
   "cell_type": "code",
   "execution_count": null,
   "metadata": {
    "collapsed": false
   },
   "outputs": [],
   "source": [
    "glob_acc = []\n",
    "\n",
    "glob_acc.append(12)\n",
    "glob_acc.append(2)\n",
    "\n",
    "sum(glob_acc)"
   ]
  },
  {
   "cell_type": "code",
   "execution_count": null,
   "metadata": {
    "collapsed": true
   },
   "outputs": [],
   "source": [
    "import numpy as np\n",
    "\n",
    "def computeIoU(y_pred_batch, y_true_batch):\n",
    "    return np.mean(np.asarray([pixelAccuracy(y_pred_batch[i], y_true_batch[i]) for i in range(len(y_true_batch))])) \n",
    "\n",
    "def pixelAccuracy(y_pred, y_true):\n",
    "    y_pred = np.argmax(np.reshape(y_pred,[N_CLASSES_PASCAL,img_rows,img_cols]),axis=0)\n",
    "    y_true = np.argmax(np.reshape(y_true,[N_CLASSES_PASCAL,img_rows,img_cols]),axis=0)\n",
    "    y_pred = y_pred * (y_true>0)\n",
    "    \n",
    "    return 1.0 * np.sum((y_pred==y_true)*(y_true>0)) /  np.sum(y_true>0)"
   ]
  }
 ],
 "metadata": {
  "kernelspec": {
   "display_name": "Python 2",
   "language": "python",
   "name": "python2"
  },
  "language_info": {
   "codemirror_mode": {
    "name": "ipython",
    "version": 2
   },
   "file_extension": ".py",
   "mimetype": "text/x-python",
   "name": "python",
   "nbconvert_exporter": "python",
   "pygments_lexer": "ipython2",
   "version": "2.7.13"
  }
 },
 "nbformat": 4,
 "nbformat_minor": 2
}
