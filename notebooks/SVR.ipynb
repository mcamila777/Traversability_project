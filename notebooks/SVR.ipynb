{
 "cells": [
  {
   "cell_type": "code",
   "execution_count": 1,
   "metadata": {
    "collapsed": true
   },
   "outputs": [],
   "source": [
    "import sklearn\n",
    "\n",
    "class VectorRegression(sklearn.base.BaseEstimator):\n",
    "    def __init__(self, estimator):\n",
    "        self.estimator = estimator\n",
    "\n",
    "    def fit(self, X, y):\n",
    "        n, m = y.shape\n",
    "        # Fit a separate regressor for each column of y\n",
    "        self.estimators_ = [sklearn.base.clone(self.estimator).fit(X, y[:, i])\n",
    "                               for i in range(m)]\n",
    "        return self\n",
    "\n",
    "    def predict(self, X):\n",
    "        # Join regressors' predictions\n",
    "        res = [est.predict(X)[:, np.newaxis] for est in self.estimators_]\n",
    "        return np.hstack(res)"
   ]
  },
  {
   "cell_type": "code",
   "execution_count": 2,
   "metadata": {
    "collapsed": false,
    "scrolled": true
   },
   "outputs": [
    {
     "name": "stdout",
     "output_type": "stream",
     "text": [
      "('X', array([[ 0.72702629,  0.63849401,  0.03840665],\n",
      "       [ 0.67611934,  0.26487845,  0.45967888],\n",
      "       [ 0.13855562,  0.23771574,  0.35290812],\n",
      "       [ 0.66878522,  0.95594032,  0.12704139],\n",
      "       [ 0.94356239,  0.8351357 ,  0.78602239],\n",
      "       [ 0.26174712,  0.10732769,  0.83292204],\n",
      "       [ 0.87558691,  0.40169222,  0.14004316],\n",
      "       [ 0.01986838,  0.71158134,  0.59409034],\n",
      "       [ 0.18732408,  0.49409634,  0.23190701],\n",
      "       [ 0.63316065,  0.57783677,  0.46178546]]))\n",
      "('y', array([[ 0.60301012,  0.93238842],\n",
      "       [ 0.49324878,  0.18500621],\n",
      "       [ 0.5055599 ,  0.75532907],\n",
      "       [ 0.28209843,  0.48761109],\n",
      "       [ 0.64515642,  0.25297611],\n",
      "       [ 0.15848551,  0.22273762],\n",
      "       [ 0.36085174,  0.56384332],\n",
      "       [ 0.49227048,  0.98169911],\n",
      "       [ 0.72611116,  0.46342659],\n",
      "       [ 0.76846202,  0.9919756 ]]))\n",
      "('X2', array([[ 0.27329161,  0.0158787 ,  0.25164317],\n",
      "       [ 0.31614131,  0.73074284,  0.37047283],\n",
      "       [ 0.55656471,  0.49816349,  0.6468171 ],\n",
      "       [ 0.80843629,  0.18499818,  0.49121017],\n",
      "       [ 0.0388473 ,  0.65919795,  0.59645239],\n",
      "       [ 0.76676738,  0.77036846,  0.47032677],\n",
      "       [ 0.44661045,  0.18896492,  0.89194148]]))\n",
      "('y_pred', array([[ 0.45898292,  0.45802877],\n",
      "       [ 0.58018328,  0.58421472],\n",
      "       [ 0.52095625,  0.40492862],\n",
      "       [ 0.43885832,  0.3283379 ],\n",
      "       [ 0.57592108,  0.57518323],\n",
      "       [ 0.54250216,  0.46216589],\n",
      "       [ 0.43704732,  0.2858049 ]]))\n"
     ]
    }
   ],
   "source": [
    "#Random values test\n",
    "\n",
    "from sklearn.svm import SVR\n",
    "import numpy as np\n",
    "\n",
    "X = np.random.random((10,3))\n",
    "y = np.random.random((10,2))\n",
    "X2 = np.random.random((7,3))\n",
    "\n",
    "#Regressor: scikit-learn estimator\n",
    "clf = SVR()  \n",
    "#clf = SVR(C=1.0, epsilon=0.2)\n",
    "\n",
    "#Multidimensional regresor\n",
    "r = VectorRegression(clf)\n",
    "r.fit(X,y)\n",
    "\n",
    "#Test trained regressor\n",
    "y_pred = r.predict(X2)\n",
    "\n",
    "\n",
    "print(\"X\", X)\n",
    "print(\"y\", y)\n",
    "\n",
    "print(\"X2\", X2)\n",
    "print(\"y_pred\", y_pred)\n",
    "\n",
    "\n"
   ]
  },
  {
   "cell_type": "code",
   "execution_count": 3,
   "metadata": {
    "collapsed": false
   },
   "outputs": [
    {
     "name": "stdout",
     "output_type": "stream",
     "text": [
      "('X', array([[0, 1, 2],\n",
      "       [6, 7, 8],\n",
      "       [0, 1, 2],\n",
      "       [6, 7, 8]]))\n",
      "('y', array([[ 2,  4,  6],\n",
      "       [14, 16, 18],\n",
      "       [ 2,  4,  6],\n",
      "       [14, 16, 18]]))\n",
      "('X2', array([[3, 4, 5],\n",
      "       [3, 4, 5]]))\n",
      "('y_pred', array([[  8.,  10.,  12.],\n",
      "       [  8.,  10.,  12.]]))\n"
     ]
    }
   ],
   "source": [
    "#---------------------\n",
    "#Example predicting pair numbers\n",
    "\n",
    "X =  np.array([[0, 1 , 2] , [6, 7, 8],[0, 1 , 2 ] , [ 6, 7, 8]])\n",
    "y =  np.array([[2 , 4 , 6 ] , [14 , 16 , 18], [2 , 4 , 6] , [14 , 16 , 18]])\n",
    "X2 = np.array([[3 ,4 , 5], [3 ,4 , 5]])\n",
    "#Regressor: scikit-learn estimator\n",
    "clf = SVR()\n",
    "#Multidimensional regresor\n",
    "r = VectorRegression(clf)\n",
    "r.fit(X,y)\n",
    "\n",
    "#Test trained regressor\n",
    "y_pred = r.predict(X2)\n",
    "\n",
    "\n",
    "print(\"X\", X)\n",
    "print(\"y\", y)\n",
    "\n",
    "print(\"X2\", X2)\n",
    "print(\"y_pred\", y_pred)\n"
   ]
  },
  {
   "cell_type": "markdown",
   "metadata": {},
   "source": [
    "# ------------------------------------------\n",
    "Real feature maps"
   ]
  },
  {
   "cell_type": "code",
   "execution_count": 4,
   "metadata": {
    "collapsed": false
   },
   "outputs": [
    {
     "name": "stdout",
     "output_type": "stream",
     "text": [
      "('Examples shape:', (26, 92160))\n"
     ]
    }
   ],
   "source": [
    "import numpy as np\n",
    "from sklearn.svm import SVR\n",
    "import cv2\n",
    "import os\n",
    "\n",
    "path = \"examp_feat_maps/\"\n",
    "\n",
    "feat_names = os.listdir(path)\n",
    "all_feat = []\n",
    "#Read images\n",
    "for filename in feat_names:\n",
    "    #Load feature map\n",
    "    array = np.load(os.path.join(path, filename)) \n",
    "    xi = array.flatten()\n",
    "    \n",
    "    all_feat.append(xi)\n",
    "    \n",
    "all_feat = np.asarray(all_feat)\n",
    "\n",
    "print(\"Examples shape:\" , all_feat.shape)"
   ]
  },
  {
   "cell_type": "code",
   "execution_count": 6,
   "metadata": {
    "collapsed": false,
    "scrolled": true
   },
   "outputs": [
    {
     "name": "stdout",
     "output_type": "stream",
     "text": [
      "(25, 2)\n"
     ]
    },
    {
     "data": {
      "text/plain": [
       "array([[ 1.        ,  0.        ],\n",
       "       [-0.83907153, -0.54402111],\n",
       "       [ 1.        ,  0.        ],\n",
       "       [ 0.93799475,  0.34664946],\n",
       "       [ 1.        ,  0.        ],\n",
       "       [ 1.        ,  0.        ],\n",
       "       [ 1.        ,  0.        ],\n",
       "       [-0.83907153, -0.54402111],\n",
       "       [ 1.        ,  0.        ],\n",
       "       [ 1.        ,  0.        ],\n",
       "       [-0.83907153, -0.54402111],\n",
       "       [-0.83907153, -0.54402111],\n",
       "       [-0.83907153, -0.54402111],\n",
       "       [ 1.        ,  0.        ],\n",
       "       [ 1.        ,  0.        ],\n",
       "       [-0.83907153, -0.54402111],\n",
       "       [ 1.        ,  0.        ],\n",
       "       [ 0.93799475,  0.34664946],\n",
       "       [-0.83907153, -0.54402111],\n",
       "       [ 1.        ,  0.        ],\n",
       "       [ 1.        ,  0.        ],\n",
       "       [ 0.93799475,  0.34664946],\n",
       "       [ 0.93799475,  0.34664946],\n",
       "       [ 1.        ,  0.        ],\n",
       "       [ 0.93799475,  0.34664946]])"
      ]
     },
     "execution_count": 6,
     "metadata": {},
     "output_type": "execute_result"
    }
   ],
   "source": [
    "import math\n",
    "\n",
    "#Test feature maps\n",
    "#Front: [1 , 0 ] \n",
    "#Right: [math.cos(10) , math.sin(10)]\n",
    "#Left: [math.cos(170) , math.sin(170)]\n",
    "\n",
    "y =  np.array([[1 , 0 ], \n",
    "               [math.cos(10) , math.sin(10)], \n",
    "               [1 , 0 ],\n",
    "               [math.cos(170) , math.sin(170)], \n",
    "               [1 , 0 ], \n",
    "               [1 , 0 ], \n",
    "               [1 , 0 ],\n",
    "               [math.cos(10) , math.sin(10)], \n",
    "               [1 , 0 ], \n",
    "               [1 , 0 ], \n",
    "               [math.cos(10), math.sin(10)],\n",
    "               [math.cos(10) , math.sin(10)],\n",
    "               [math.cos(10) , math.sin(10)],  \n",
    "               [1 , 0 ], \n",
    "               [1 , 0 ], \n",
    "               [math.cos(10) , math.sin(10)],\n",
    "               [1 , 0 ],\n",
    "               [math.cos(170) , math.sin(170)],\n",
    "               [math.cos(10) , math.sin(10)],\n",
    "               [1 , 0 ],\n",
    "               [1 , 0 ],\n",
    "               [math.cos(170) , math.sin(170)],\n",
    "               [math.cos(170) , math.sin(170)],\n",
    "               [1 , 0 ],\n",
    "               [math.cos(170) , math.sin(170)] ])#,\n",
    "               #[1 , 0 ]]) \n",
    "print(y .shape)\n",
    "y"
   ]
  },
  {
   "cell_type": "code",
   "execution_count": 7,
   "metadata": {
    "collapsed": false
   },
   "outputs": [
    {
     "name": "stdout",
     "output_type": "stream",
     "text": [
      "(25, 92160)\n"
     ]
    },
    {
     "data": {
      "text/plain": [
       "VectorRegression(estimator=SVR(C=1.0, cache_size=200, coef0=0.0, degree=3, epsilon=0.1, gamma='auto',\n",
       "  kernel='rbf', max_iter=-1, shrinking=True, tol=0.001, verbose=False))"
      ]
     },
     "execution_count": 7,
     "metadata": {},
     "output_type": "execute_result"
    }
   ],
   "source": [
    "X = all_feat[0:-1,:]\n",
    "\n",
    "print(X .shape)\n",
    "\n",
    "#Regressor: scikit-learn estimator\n",
    "clf = SVR()\n",
    "#Multidimensional regresor\n",
    "r = VectorRegression(clf)\n",
    "r.fit(X,y)"
   ]
  },
  {
   "cell_type": "code",
   "execution_count": 8,
   "metadata": {
    "collapsed": false
   },
   "outputs": [
    {
     "name": "stderr",
     "output_type": "stream",
     "text": [
      "/home/mcalvarez/anaconda2/lib/python2.7/site-packages/sklearn/utils/validation.py:395: DeprecationWarning: Passing 1d arrays as data is deprecated in 0.17 and will raise ValueError in 0.19. Reshape your data either using X.reshape(-1, 1) if your data has a single feature or X.reshape(1, -1) if it contains a single sample.\n",
      "  DeprecationWarning)\n",
      "/home/mcalvarez/anaconda2/lib/python2.7/site-packages/sklearn/utils/validation.py:395: DeprecationWarning: Passing 1d arrays as data is deprecated in 0.17 and will raise ValueError in 0.19. Reshape your data either using X.reshape(-1, 1) if your data has a single feature or X.reshape(1, -1) if it contains a single sample.\n",
      "  DeprecationWarning)\n"
     ]
    },
    {
     "data": {
      "text/plain": [
       "array([[ 0.83792907,  0.20846471]])"
      ]
     },
     "execution_count": 8,
     "metadata": {},
     "output_type": "execute_result"
    }
   ],
   "source": [
    "#Predict output for the last example which was not included in training\n",
    "y_pred = r.predict(X[-1, :])\n",
    "y_pred"
   ]
  },
  {
   "cell_type": "code",
   "execution_count": 9,
   "metadata": {
    "collapsed": false
   },
   "outputs": [
    {
     "data": {
      "text/plain": [
       "0.0"
      ]
     },
     "execution_count": 9,
     "metadata": {},
     "output_type": "execute_result"
    }
   ],
   "source": [
    "#Accuracy calculation \n",
    "diff = y - y_pred\n",
    "percent = 100.*(np.where((diff == 0) | (abs(diff)<1e-05))[0].shape[0])\n",
    "percent"
   ]
  }
 ],
 "metadata": {
  "kernelspec": {
   "display_name": "Python 2",
   "language": "python",
   "name": "python2"
  },
  "language_info": {
   "codemirror_mode": {
    "name": "ipython",
    "version": 2
   },
   "file_extension": ".py",
   "mimetype": "text/x-python",
   "name": "python",
   "nbconvert_exporter": "python",
   "pygments_lexer": "ipython2",
   "version": "2.7.13"
  }
 },
 "nbformat": 4,
 "nbformat_minor": 2
}
