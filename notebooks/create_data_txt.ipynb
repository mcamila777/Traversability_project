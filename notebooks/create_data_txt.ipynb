{
 "cells": [
  {
   "cell_type": "markdown",
   "metadata": {},
   "source": [
    "## Create txt for images in folders separated by classes"
   ]
  },
  {
   "cell_type": "code",
   "execution_count": 107,
   "metadata": {
    "collapsed": true
   },
   "outputs": [],
   "source": [
    "import os\n",
    "from os.path import expanduser\n",
    "import numpy as np\n",
    "import os\n",
    "\n",
    "RELATIVE_DATA_DIR = 'imageVelDataset/augmented_data/' \n",
    "DATA_DIR = os.path.join(expanduser(\"~\"), 'Traversability_project/' + RELATIVE_DATA_DIR )  \n",
    "TXT_DIR = os.path.join(expanduser(\"~\"), 'Traversability_project/imageVelDataset/augmented_data_txt' ) \n",
    "\n",
    "classes_amount = len(os.listdir(DATA_DIR))\n",
    "\n",
    "train_percentage = 0.7\n",
    "train_list = []\n",
    "test_list = []\n",
    "\n",
    "for image_class in xrange(classes_amount):\n",
    "    #List names of the images names by calss \n",
    "    class_name = 'class_' + str(image_class) +'/'  \n",
    "    images_of_class = [RELATIVE_DATA_DIR + class_name + image  for image in os.listdir(os.path.join(DATA_DIR + class_name))]\n",
    "    \n",
    "    train_list.append(images_of_class[:int(len(images_of_class)*train_percentage)])\n",
    "    test_list.append(images_of_class[int(len(images_of_class)*train_percentage):])\n",
    "\n",
    "#Train file  \n",
    "with open('{}/train.txt'.format(TXT_DIR), 'w') as f:\n",
    "    \n",
    "    for image_class in xrange(classes_amount):\n",
    "        \n",
    "        for image in train_list[image_class]:\n",
    "            f.write('{} {}\\n'.format(image, image_class))\n",
    "        \n",
    "    f.close()\n",
    "        \n",
    "#Test file  \n",
    "\n",
    "with open('{}/test.txt'.format(TXT_DIR), 'w') as f:\n",
    "    \n",
    "    for image_class in xrange(classes_amount):\n",
    "        \n",
    "        for image in test_list[image_class]:\n",
    "            f.write('{} {}\\n'.format(image, image_class))\n",
    "        \n",
    "    f.close()"
   ]
  },
  {
   "cell_type": "markdown",
   "metadata": {},
   "source": [
    "Fuente: https://chunml.github.io/ChunML.github.io/project/Training-Your-Own-Data-On-Caffe/"
   ]
  },
  {
   "cell_type": "markdown",
   "metadata": {},
   "source": [
    "## Move all images to the same folder"
   ]
  },
  {
   "cell_type": "code",
   "execution_count": 119,
   "metadata": {},
   "outputs": [],
   "source": [
    "import cv2\n",
    "import numpy as np\n",
    "from os.path import expanduser\n",
    "import re \n",
    "\n",
    "#Load Data\n",
    "RELATIVE_DATA_DIR = 'imageVelDataset/augmented_data/' \n",
    "DATA_DIR = os.path.join(expanduser(\"~\"), 'Traversability_project/' + RELATIVE_DATA_DIR )  \n",
    "\n",
    "save_path = os.path.join(expanduser(\"~\"), 'Traversability_project/imageVelDataset/all_augmented_data' ) \n",
    "\n",
    "classes_amount = len(os.listdir(DATA_DIR))\n",
    "\n",
    "for image_class in xrange(classes_amount):\n",
    "    class_name = 'class_' + str(image_class) +'/'  \n",
    "\n",
    "    for image_name in os.listdir(os.path.join(DATA_DIR + class_name)):\n",
    "        \n",
    "        img = cv2.imread(os.path.join(DATA_DIR + class_name, image_name))\n",
    "        new_name =   str(image_class) +'_'  + image_name\n",
    "        cv2.imwrite(os.path.join(save_path, new_name) , img)\n"
   ]
  },
  {
   "cell_type": "markdown",
   "metadata": {},
   "source": [
    "## Create txt for images in folders the same folder"
   ]
  },
  {
   "cell_type": "code",
   "execution_count": 155,
   "metadata": {
    "collapsed": true
   },
   "outputs": [],
   "source": [
    "import os\n",
    "from os.path import expanduser\n",
    "import numpy as np\n",
    "import os\n",
    "\n",
    "DATA_DIR = os.path.join(expanduser(\"~\"), 'Traversability_project/imageVelDataset/all_augmented_data' ) \n",
    "TXT_DIR = os.path.join(expanduser(\"~\"), 'Traversability_project/imageVelDataset/augmented_data_txt' ) \n",
    "\n",
    "classes_amount = 3\n",
    "train_percentage = 0.7\n",
    "train_list = []\n",
    "test_list = []\n",
    "\n",
    "\n",
    "for image_class in xrange(classes_amount):\n",
    "    \n",
    "    images_of_class = [image for image in os.listdir(DATA_DIR)  if str(image_class) in image[0]]    \n",
    "    train_list.append(images_of_class[:int(len(images_of_class)*train_percentage)])\n",
    "    test_list.append(images_of_class[int(len(images_of_class)*train_percentage):])\n",
    "\n",
    "\n",
    "#Train file  \n",
    "with open('{}/train.txt'.format(TXT_DIR), 'w') as f:\n",
    "    \n",
    "    for image_class in xrange(classes_amount):\n",
    "        \n",
    "        for image in train_list[image_class]:\n",
    "            f.write('{} {}\\n'.format(image, image_class))\n",
    "        \n",
    "    f.close()\n",
    "        \n",
    "\n",
    "#Test file  \n",
    "\n",
    "with open('{}/test.txt'.format(TXT_DIR), 'w') as f:\n",
    "    \n",
    "    for image_class in xrange(classes_amount):\n",
    "        \n",
    "        for image in test_list[image_class]:\n",
    "            f.write('{} {}\\n'.format(image, image_class))\n",
    "        \n",
    "    f.close()"
   ]
  }
 ],
 "metadata": {
  "kernelspec": {
   "display_name": "Python 2",
   "language": "python",
   "name": "python2"
  },
  "language_info": {
   "codemirror_mode": {
    "name": "ipython",
    "version": 2
   },
   "file_extension": ".py",
   "mimetype": "text/x-python",
   "name": "python",
   "nbconvert_exporter": "python",
   "pygments_lexer": "ipython2",
   "version": "2.7.13"
  }
 },
 "nbformat": 4,
 "nbformat_minor": 2
}
