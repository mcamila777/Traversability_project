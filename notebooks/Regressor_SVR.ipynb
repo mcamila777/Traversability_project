{
 "cells": [
  {
   "cell_type": "markdown",
   "metadata": {},
   "source": [
    "#  Vector Regressor definition and sample"
   ]
  },
  {
   "cell_type": "code",
   "execution_count": 1,
   "metadata": {
    "collapsed": true
   },
   "outputs": [],
   "source": [
    "import sklearn\n",
    "from sklearn.svm import SVR\n",
    "import numpy as np\n",
    "\n",
    "class VectorRegression(sklearn.base.BaseEstimator):\n",
    "    def __init__(self, estimator):\n",
    "        self.estimator = estimator\n",
    "\n",
    "    def fit(self, X, y):\n",
    "        n, m = y.shape\n",
    "        # Fit a separate regressor for each column of y\n",
    "        self.estimators_ = [sklearn.base.clone(self.estimator).fit(X, y[:, i])\n",
    "                               for i in range(m)]\n",
    "        return self\n",
    "\n",
    "    def predict(self, X):\n",
    "        # Join regressors' predictions\n",
    "        res = [est.predict(X)[:, np.newaxis] for est in self.estimators_]\n",
    "        return np.hstack(res)"
   ]
  },
  {
   "cell_type": "code",
   "execution_count": 3,
   "metadata": {
    "collapsed": true
   },
   "outputs": [],
   "source": [
    "#Methods to sort as human expect\n",
    "import re\n",
    "\n",
    "def tryint(s):\n",
    "    try:\n",
    "        return int(s)\n",
    "    except:\n",
    "        return s\n",
    "    \n",
    "def alphanum_key(s):\n",
    "    \"\"\" Turn a string into a list of string and number chunks.\n",
    "        \"z23a\" -> [\"z\", 23, \"a\"]\n",
    "    \"\"\"\n",
    "    return [ tryint(c) for c in re.split('([0-9]+)', s) ]\n",
    "\n",
    "def sort_nicely(l):\n",
    "    \"\"\" Sort the given list in the way that humans expect.\n",
    "    \"\"\"\n",
    "    l.sort(key=alphanum_key)\n",
    "    \n"
   ]
  },
  {
   "cell_type": "code",
   "execution_count": 4,
   "metadata": {},
   "outputs": [
    {
     "data": {
      "image/png": "[encoded data removed]",
      "text/plain": [
       "<matplotlib.figure.Figure at 0x7f081a2a3550>"
      ]
     },
     "metadata": {},
     "output_type": "display_data"
    }
   ],
   "source": [
    "import matplotlib.pyplot as plt\n",
    "plt.plot([1,2,3,4])\n",
    "plt.ylabel('some numbers')\n",
    "plt.show()"
   ]
  },
  {
   "cell_type": "code",
   "execution_count": 6,
   "metadata": {
    "scrolled": true
   },
   "outputs": [
    {
     "name": "stdout",
     "output_type": "stream",
     "text": [
      "('X2', array([[ 0.35687817,  0.63672379,  0.48184342],\n",
      "       [ 0.21267318,  0.18908634,  0.07527389],\n",
      "       [ 0.03312334,  0.49410753,  0.77905842],\n",
      "       [ 0.95657016,  0.09404679,  0.46179397],\n",
      "       [ 0.38296729,  0.31061565,  0.43331216],\n",
      "       [ 0.89028876,  0.2228809 ,  0.65937166],\n",
      "       [ 0.79359101,  0.86122121,  0.38152333]]))\n",
      "('y_pred', array([[ 0.67945294,  0.47997069],\n",
      "       [ 0.54426019,  0.50715984],\n",
      "       [ 0.61307022,  0.68394435],\n",
      "       [ 0.48138953,  0.34634653],\n",
      "       [ 0.56663114,  0.51910496],\n",
      "       [ 0.52283109,  0.39415069],\n",
      "       [ 0.76493941,  0.2447229 ]]))\n"
     ]
    }
   ],
   "source": [
    "#Random values test\n",
    "X = np.random.random((10,3))\n",
    "y = np.random.random((10,2))\n",
    "X2 = np.random.random((7,3))\n",
    "\n",
    "#Regressor: scikit-learn estimator\n",
    "clf = SVR()  \n",
    "#clf = SVR(C=1.0, epsilon=0.2)\n",
    "\n",
    "#Multidimensional regresor\n",
    "r = VectorRegression(clf)\n",
    "r.fit(X,y)\n",
    "\n",
    "#Test trained regressor\n",
    "y_pred = r.predict(X2)\n",
    "\n",
    "\n",
    "#print(\"X\", X)\n",
    "#print(\"y\", y)\n",
    "\n",
    "print(\"X2\", X2)\n",
    "print(\"y_pred\", y_pred)"
   ]
  },
  {
   "cell_type": "markdown",
   "metadata": {},
   "source": [
    "# Real data training"
   ]
  },
  {
   "cell_type": "code",
   "execution_count": 5,
   "metadata": {
    "collapsed": true
   },
   "outputs": [],
   "source": [
    "import cv2\n",
    "import matplotlib.pyplot as plt\n",
    "import numpy as np\n",
    "import os\n",
    "from os.path import expanduser\n",
    "import re \n",
    "\n",
    "#Load Data\n",
    "\n",
    "dates = [\"Oct18\" , \"Oct23\" ]\n",
    "\n",
    "\n",
    "train_path = []; test_path = []; labels_path = []; matchMatrixfileName = [];\n",
    " \n",
    "matchMatrixes_Path = os.path.join(expanduser(\"~\"),'Traversability_project/imageVelDataset/timeStampsAndMatchMatrixes')\n",
    "\n",
    "for date in dates:\n",
    "\n",
    "    train_path.append( os.path.join(expanduser(\"~\"),'Traversability_project/imageVelDataset/train_'  + date) )\n",
    "    test_path.append(os.path.join(expanduser(\"~\"),'Traversability_project/imageVelDataset/test_'  + date) )\n",
    "    labels_path.append(os.path.join(expanduser(\"~\"),'Traversability_project/imageVelDataset/vel'  + date) )\n",
    "\n",
    "    matchMatrixfileName.append(os.path.join(matchMatrixes_Path, \"convensionMatrix_\" + date + \".npy\" ) )\n"
   ]
  },
  {
   "cell_type": "code",
   "execution_count": 6,
   "metadata": {
    "collapsed": true
   },
   "outputs": [],
   "source": [
    "X = []\n",
    "Y = []\n",
    "\n",
    "\n",
    "for i in xrange(0, len(dates)):\n",
    "\n",
    "    matchMatrix = np.load(matchMatrixfileName[i])\n",
    "\n",
    "    all_names_train = os.listdir(train_path[i])\n",
    "\n",
    "    for name in all_names_train:\n",
    "        identifierMap = int(re.findall('\\d+', name )[0])\n",
    "\n",
    "        feat_map = np.load(os.path.join(train_path[i], name))\n",
    "\n",
    "        identifierVel = matchMatrix[np.where(matchMatrix == identifierMap)[0][0],1]\n",
    "\n",
    "        label = np.load(os.path.join(labels_path[i], \"vel_\"+str(identifierVel+1) + \".npy\")) #+1 it's Because Vel names were saved starting from 1 instead of 0  \n",
    "\n",
    "        X.append(feat_map.flatten())\n",
    "        Y.append(label)\n"
   ]
  },
  {
   "cell_type": "code",
   "execution_count": 7,
   "metadata": {},
   "outputs": [
    {
     "name": "stdout",
     "output_type": "stream",
     "text": [
      "Shape X: (5428, 92160)\n",
      "Shape Y: (5428, 2)\n"
     ]
    }
   ],
   "source": [
    "X = np.array(X)\n",
    "Y = np.array(Y)\n",
    "print \"Shape X: \" + str(X.shape)\n",
    "print \"Shape Y: \" + str(Y.shape)"
   ]
  },
  {
   "cell_type": "markdown",
   "metadata": {},
   "source": [
    "## SVR"
   ]
  },
  {
   "cell_type": "code",
   "execution_count": 6,
   "metadata": {},
   "outputs": [
    {
     "data": {
      "text/plain": [
       "VectorRegression(estimator=SVR(C=1.0, cache_size=200, coef0=0.0, degree=3, epsilon=0.1, gamma='auto',\n",
       "  kernel='rbf', max_iter=-1, shrinking=True, tol=0.001, verbose=False))"
      ]
     },
     "execution_count": 6,
     "metadata": {},
     "output_type": "execute_result"
    }
   ],
   "source": [
    "#Regressor: scikit-learn estimator\n",
    "clf = SVR()  \n",
    "#clf = SVR(C=1.0, epsilon=0.2)\n",
    "\n",
    "#Multidimensional regresor\n",
    "r = VectorRegression(clf)\n",
    "r.fit(X,Y)"
   ]
  },
  {
   "cell_type": "markdown",
   "metadata": {},
   "source": [
    "## MLP"
   ]
  },
  {
   "cell_type": "code",
   "execution_count": 8,
   "metadata": {
    "collapsed": true
   },
   "outputs": [],
   "source": [
    "#MLPRegressor\n",
    "from sklearn.neural_network import MLPRegressor\n",
    "\n",
    "mlp = MLPRegressor(\n",
    "    hidden_layer_sizes=(10,),  activation='relu', solver='adam', alpha=0.001, batch_size='auto',\n",
    "    learning_rate='constant', learning_rate_init=0.01, power_t=0.5, max_iter=1000, shuffle=True,\n",
    "    random_state=9, tol=0.0001, verbose=False, warm_start=False, momentum=0.9, nesterovs_momentum=True,\n",
    "    early_stopping=False, validation_fraction=0.1, beta_1=0.9, beta_2=0.999, epsilon=1e-08)\n",
    "\n",
    "n = mlp.fit(X,Y)"
   ]
  },
  {
   "cell_type": "code",
   "execution_count": 9,
   "metadata": {},
   "outputs": [
    {
     "data": {
      "text/plain": [
       "MLPRegressor(activation='relu', alpha=0.001, batch_size='auto', beta_1=0.9,\n",
       "       beta_2=0.999, early_stopping=False, epsilon=1e-08,\n",
       "       hidden_layer_sizes=(10,), learning_rate='constant',\n",
       "       learning_rate_init=0.01, max_iter=1000, momentum=0.9,\n",
       "       nesterovs_momentum=True, power_t=0.5, random_state=9, shuffle=True,\n",
       "       solver='adam', tol=0.0001, validation_fraction=0.1, verbose=False,\n",
       "       warm_start=False)"
      ]
     },
     "execution_count": 9,
     "metadata": {},
     "output_type": "execute_result"
    }
   ],
   "source": [
    "n"
   ]
  },
  {
   "cell_type": "markdown",
   "metadata": {},
   "source": [
    "## Model storage"
   ]
  },
  {
   "cell_type": "code",
   "execution_count": 7,
   "metadata": {
    "collapsed": true
   },
   "outputs": [],
   "source": [
    "#Save model SVR\n",
    "import cPickle\n",
    "# save the classifier\n",
    "with open('VectorRegressor.pkl', 'wb') as fid:\n",
    "    cPickle.dump(r, fid)    "
   ]
  },
  {
   "cell_type": "code",
   "execution_count": 10,
   "metadata": {
    "collapsed": true
   },
   "outputs": [],
   "source": [
    "#Save model MPL\n",
    "import cPickle\n",
    "# save the model\n",
    "with open('MLP_Regressor.pkl', 'wb') as fid:\n",
    "    cPickle.dump(mlp, fid)    "
   ]
  },
  {
   "cell_type": "code",
   "execution_count": 17,
   "metadata": {
    "collapsed": true
   },
   "outputs": [],
   "source": [
    "#Load model\n",
    "import cPickle\n",
    "regFileName = 'VectorRegressor_AllData.pkl'# 'MLP_Regressor.pkl' \n",
    "model_path =  os.path.join(expanduser(\"~\"),'Traversability_project/imageVelDataset/'  + regFileName )\n",
    "\n",
    "with open(model_path, 'rb') as fid:\n",
    "    r_loaded = cPickle.load(fid)\n",
    "    "
   ]
  },
  {
   "cell_type": "markdown",
   "metadata": {},
   "source": [
    "## TEST"
   ]
  },
  {
   "cell_type": "code",
   "execution_count": 11,
   "metadata": {},
   "outputs": [
    {
     "name": "stdout",
     "output_type": "stream",
     "text": [
      "Shape X: (1356, 92160)\n",
      "Shape Y: (1356, 2)\n"
     ]
    }
   ],
   "source": [
    "#TEST\n",
    "\n",
    "X = []\n",
    "Y = []\n",
    "\n",
    "for i in xrange(0, len(dates)):\n",
    "\n",
    "    matchMatrix = np.load(matchMatrixfileName[i])\n",
    "\n",
    "    all_names_test = os.listdir(test_path[i])\n",
    "    sort_nicely(all_names_test)  \n",
    "\n",
    "    for name in all_names_test:\n",
    "        identifierMap = int(re.findall('\\d+', name )[0])\n",
    "\n",
    "        feat_map = np.load(os.path.join(test_path[i], name))\n",
    "\n",
    "        identifierVel = matchMatrix[np.where(matchMatrix == identifierMap)[0][0],1]\n",
    "\n",
    "        label = np.load(os.path.join(labels_path[i], \"vel_\"+str(identifierVel+1) + \".npy\")) #+1 it's Because Vel names were saved starting from 1 instead of 0  \n",
    "\n",
    "        X.append(feat_map.flatten())\n",
    "        Y.append(label)\n",
    "    \n",
    "X = np.array(X)\n",
    "Y = np.array(Y)\n",
    "print \"Shape X: \" + str(X.shape)\n",
    "print \"Shape Y: \" + str(Y.shape)"
   ]
  },
  {
   "cell_type": "markdown",
   "metadata": {},
   "source": [
    "## TEST SVR "
   ]
  },
  {
   "cell_type": "code",
   "execution_count": 18,
   "metadata": {
    "collapsed": true
   },
   "outputs": [],
   "source": [
    "#Test trained SVR regressor\n",
    "Y_pred = r_loaded.predict(X)\n",
    "#Y_pred = r.predict(X)\n"
   ]
  },
  {
   "cell_type": "markdown",
   "metadata": {},
   "source": [
    "## Test MLP"
   ]
  },
  {
   "cell_type": "code",
   "execution_count": 12,
   "metadata": {
    "collapsed": true
   },
   "outputs": [],
   "source": [
    "#Test trained MLP regressor\n",
    "Y_pred = mlp.predict(X)"
   ]
  },
  {
   "cell_type": "markdown",
   "metadata": {},
   "source": [
    "## Plot test"
   ]
  },
  {
   "cell_type": "code",
   "execution_count": 19,
   "metadata": {
    "scrolled": false
   },
   "outputs": [
    {
     "data": {
      "image/png": "[encoded data removed]",
      "text/plain": [
       "<matplotlib.figure.Figure at 0x7f0805e578d0>"
      ]
     },
     "metadata": {},
     "output_type": "display_data"
    },
    {
     "data": {
      "image/png": "[encoded data removed]",
      "text/plain": [
       "<matplotlib.figure.Figure at 0x7f0805cb0b50>"
      ]
     },
     "metadata": {},
     "output_type": "display_data"
    }
   ],
   "source": [
    "line1, = plt.plot(Y[:,0], label=\"Y labels\", linestyle='--')\n",
    "line2, = plt.plot(Y_pred[:,0], label=\"Y predicted\", linewidth=2)\n",
    "\n",
    "# Create a legend for the first line.\n",
    "first_legend = plt.legend(handles=[line1], loc=1)\n",
    "# Add the legend manually to the current Axes.\n",
    "ax = plt.gca().add_artist(first_legend)\n",
    "# Create another legend for the second line.\n",
    "plt.legend(handles=[line2], loc=4)\n",
    "plt.ylabel(\"X linear vel\")\n",
    "plt.show()\n",
    "\n",
    "\n",
    "\n",
    "line1, = plt.plot(Y[:,1], label=\"Y labels\", linestyle='--')\n",
    "line2, = plt.plot(Y_pred[:,1], label=\"Y predicted\", linewidth=2)\n",
    "\n",
    "# Create a legend for the first line.\n",
    "first_legend = plt.legend(handles=[line1], loc=1)\n",
    "# Add the legend manually to the current Axes.\n",
    "ax = plt.gca().add_artist(first_legend)\n",
    "# Create another legend for the second line.\n",
    "plt.legend(handles=[line2], loc=4)\n",
    "plt.ylabel(\"Z angular vel\")\n",
    "plt.show()"
   ]
  },
  {
   "cell_type": "code",
   "execution_count": 12,
   "metadata": {},
   "outputs": [
    {
     "data": {
      "text/plain": [
       "array([[ 0.,  0.],\n",
       "       [ 0.,  0.],\n",
       "       [ 0.,  0.],\n",
       "       ..., \n",
       "       [ 0.,  0.],\n",
       "       [ 0.,  0.],\n",
       "       [ 0.,  0.]])"
      ]
     },
     "execution_count": 12,
     "metadata": {},
     "output_type": "execute_result"
    }
   ],
   "source": [
    "Y"
   ]
  },
  {
   "cell_type": "code",
   "execution_count": 13,
   "metadata": {},
   "outputs": [
    {
     "data": {
      "text/plain": [
       "array([[ 0.19573888,  0.03134159],\n",
       "       [ 0.19573888,  0.03134159],\n",
       "       [ 0.19573888,  0.03134159],\n",
       "       ..., \n",
       "       [ 0.19573888,  0.03134159],\n",
       "       [ 0.19573888,  0.03134159],\n",
       "       [ 0.19573888,  0.03134159]])"
      ]
     },
     "execution_count": 13,
     "metadata": {},
     "output_type": "execute_result"
    }
   ],
   "source": [
    "Y_pred"
   ]
  },
  {
   "cell_type": "markdown",
   "metadata": {},
   "source": [
    "## Error calculation to evaluate regressor \n"
   ]
  },
  {
   "cell_type": "code",
   "execution_count": 20,
   "metadata": {},
   "outputs": [
    {
     "data": {
      "text/plain": [
       "array([ 0.00938091,  0.00769233])"
      ]
     },
     "execution_count": 20,
     "metadata": {},
     "output_type": "execute_result"
    }
   ],
   "source": [
    "# Mean squared error\n",
    "from sklearn.metrics import mean_squared_error\n",
    "\n",
    "mean_squared_error(Y , Y_pred , multioutput='raw_values')"
   ]
  },
  {
   "cell_type": "markdown",
   "metadata": {},
   "source": [
    "# Initial experiments"
   ]
  },
  {
   "cell_type": "code",
   "execution_count": 3,
   "metadata": {},
   "outputs": [
    {
     "name": "stdout",
     "output_type": "stream",
     "text": [
      "('X', array([[0, 1, 2],\n",
      "       [6, 7, 8],\n",
      "       [0, 1, 2],\n",
      "       [6, 7, 8]]))\n",
      "('y', array([[ 2,  4,  6],\n",
      "       [14, 16, 18],\n",
      "       [ 2,  4,  6],\n",
      "       [14, 16, 18]]))\n",
      "('X2', array([[3, 4, 5],\n",
      "       [3, 4, 5]]))\n",
      "('y_pred', array([[  8.,  10.,  12.],\n",
      "       [  8.,  10.,  12.]]))\n"
     ]
    }
   ],
   "source": [
    "#---------------------\n",
    "#Example predicting pair numbers\n",
    "\n",
    "X =  np.array([[0, 1 , 2] , [6, 7, 8],[0, 1 , 2 ] , [ 6, 7, 8]])\n",
    "y =  np.array([[2 , 4 , 6 ] , [14 , 16 , 18], [2 , 4 , 6] , [14 , 16 , 18]])\n",
    "X2 = np.array([[3 ,4 , 5], [3 ,4 , 5]])\n",
    "#Regressor: scikit-learn estimator\n",
    "clf = SVR()\n",
    "#Multidimensional regresor\n",
    "r = VectorRegression(clf)\n",
    "r.fit(X,y)\n",
    "\n",
    "#Test trained regressor\n",
    "y_pred = r.predict(X2)\n",
    "\n",
    "\n",
    "print(\"X\", X)\n",
    "print(\"y\", y)\n",
    "\n",
    "print(\"X2\", X2)\n",
    "print(\"y_pred\", y_pred)\n"
   ]
  },
  {
   "cell_type": "markdown",
   "metadata": {},
   "source": [
    "# ------------------------------------------\n",
    "Real feature maps"
   ]
  },
  {
   "cell_type": "code",
   "execution_count": 4,
   "metadata": {},
   "outputs": [
    {
     "name": "stdout",
     "output_type": "stream",
     "text": [
      "('Examples shape:', (26, 92160))\n"
     ]
    }
   ],
   "source": [
    "import numpy as np\n",
    "from sklearn.svm import SVR\n",
    "import cv2\n",
    "import os\n",
    "\n",
    "path = \"examp_feat_maps/\"\n",
    "\n",
    "feat_names = os.listdir(path)\n",
    "all_feat = []\n",
    "#Read images\n",
    "for filename in feat_names:\n",
    "    #Load feature map\n",
    "    array = np.load(os.path.join(path, filename)) \n",
    "    xi = array.flatten()\n",
    "    \n",
    "    all_feat.append(xi)\n",
    "    \n",
    "all_feat = np.asarray(all_feat)\n",
    "\n",
    "print(\"Examples shape:\" , all_feat.shape)"
   ]
  },
  {
   "cell_type": "code",
   "execution_count": 6,
   "metadata": {
    "scrolled": true
   },
   "outputs": [
    {
     "name": "stdout",
     "output_type": "stream",
     "text": [
      "(25, 2)\n"
     ]
    },
    {
     "data": {
      "text/plain": [
       "array([[ 1.        ,  0.        ],\n",
       "       [-0.83907153, -0.54402111],\n",
       "       [ 1.        ,  0.        ],\n",
       "       [ 0.93799475,  0.34664946],\n",
       "       [ 1.        ,  0.        ],\n",
       "       [ 1.        ,  0.        ],\n",
       "       [ 1.        ,  0.        ],\n",
       "       [-0.83907153, -0.54402111],\n",
       "       [ 1.        ,  0.        ],\n",
       "       [ 1.        ,  0.        ],\n",
       "       [-0.83907153, -0.54402111],\n",
       "       [-0.83907153, -0.54402111],\n",
       "       [-0.83907153, -0.54402111],\n",
       "       [ 1.        ,  0.        ],\n",
       "       [ 1.        ,  0.        ],\n",
       "       [-0.83907153, -0.54402111],\n",
       "       [ 1.        ,  0.        ],\n",
       "       [ 0.93799475,  0.34664946],\n",
       "       [-0.83907153, -0.54402111],\n",
       "       [ 1.        ,  0.        ],\n",
       "       [ 1.        ,  0.        ],\n",
       "       [ 0.93799475,  0.34664946],\n",
       "       [ 0.93799475,  0.34664946],\n",
       "       [ 1.        ,  0.        ],\n",
       "       [ 0.93799475,  0.34664946]])"
      ]
     },
     "execution_count": 6,
     "metadata": {},
     "output_type": "execute_result"
    }
   ],
   "source": [
    "import math\n",
    "\n",
    "#Test feature maps\n",
    "#Front: [1 , 0 ] \n",
    "#Right: [math.cos(10) , math.sin(10)]\n",
    "#Left: [math.cos(170) , math.sin(170)]\n",
    "\n",
    "y =  np.array([[1 , 0 ], \n",
    "               [math.cos(10) , math.sin(10)], \n",
    "               [1 , 0 ],\n",
    "               [math.cos(170) , math.sin(170)], \n",
    "               [1 , 0 ], \n",
    "               [1 , 0 ], \n",
    "               [1 , 0 ],\n",
    "               [math.cos(10) , math.sin(10)], \n",
    "               [1 , 0 ], \n",
    "               [1 , 0 ], \n",
    "               [math.cos(10), math.sin(10)],\n",
    "               [math.cos(10) , math.sin(10)],\n",
    "               [math.cos(10) , math.sin(10)],  \n",
    "               [1 , 0 ], \n",
    "               [1 , 0 ], \n",
    "               [math.cos(10) , math.sin(10)],\n",
    "               [1 , 0 ],\n",
    "               [math.cos(170) , math.sin(170)],\n",
    "               [math.cos(10) , math.sin(10)],\n",
    "               [1 , 0 ],\n",
    "               [1 , 0 ],\n",
    "               [math.cos(170) , math.sin(170)],\n",
    "               [math.cos(170) , math.sin(170)],\n",
    "               [1 , 0 ],\n",
    "               [math.cos(170) , math.sin(170)] ])#,\n",
    "               #[1 , 0 ]]) \n",
    "print(y .shape)\n",
    "y"
   ]
  },
  {
   "cell_type": "code",
   "execution_count": 7,
   "metadata": {},
   "outputs": [
    {
     "name": "stdout",
     "output_type": "stream",
     "text": [
      "(25, 92160)\n"
     ]
    },
    {
     "data": {
      "text/plain": [
       "VectorRegression(estimator=SVR(C=1.0, cache_size=200, coef0=0.0, degree=3, epsilon=0.1, gamma='auto',\n",
       "  kernel='rbf', max_iter=-1, shrinking=True, tol=0.001, verbose=False))"
      ]
     },
     "execution_count": 7,
     "metadata": {},
     "output_type": "execute_result"
    }
   ],
   "source": [
    "X = all_feat[0:-1,:]\n",
    "\n",
    "print(X .shape)\n",
    "\n",
    "#Regressor: scikit-learn estimator\n",
    "clf = SVR()\n",
    "#Multidimensional regresor\n",
    "r = VectorRegression(clf)\n",
    "r.fit(X,y)"
   ]
  },
  {
   "cell_type": "code",
   "execution_count": 8,
   "metadata": {},
   "outputs": [
    {
     "name": "stderr",
     "output_type": "stream",
     "text": [
      "/home/mcalvarez/anaconda2/lib/python2.7/site-packages/sklearn/utils/validation.py:395: DeprecationWarning: Passing 1d arrays as data is deprecated in 0.17 and will raise ValueError in 0.19. Reshape your data either using X.reshape(-1, 1) if your data has a single feature or X.reshape(1, -1) if it contains a single sample.\n",
      "  DeprecationWarning)\n",
      "/home/mcalvarez/anaconda2/lib/python2.7/site-packages/sklearn/utils/validation.py:395: DeprecationWarning: Passing 1d arrays as data is deprecated in 0.17 and will raise ValueError in 0.19. Reshape your data either using X.reshape(-1, 1) if your data has a single feature or X.reshape(1, -1) if it contains a single sample.\n",
      "  DeprecationWarning)\n"
     ]
    },
    {
     "data": {
      "text/plain": [
       "array([[ 0.83792907,  0.20846471]])"
      ]
     },
     "execution_count": 8,
     "metadata": {},
     "output_type": "execute_result"
    }
   ],
   "source": [
    "#Predict output for the last example which was not included in training\n",
    "y_pred = r.predict(X[-1, :])\n",
    "y_pred"
   ]
  },
  {
   "cell_type": "code",
   "execution_count": 9,
   "metadata": {},
   "outputs": [
    {
     "data": {
      "text/plain": [
       "0.0"
      ]
     },
     "execution_count": 9,
     "metadata": {},
     "output_type": "execute_result"
    }
   ],
   "source": [
    "#Accuracy calculation \n",
    "diff = y - y_pred\n",
    "percent = 100.*(np.where((diff == 0) | (abs(diff)<1e-05))[0].shape[0])\n",
    "percent"
   ]
  }
 ],
 "metadata": {
  "kernelspec": {
   "display_name": "Python 2",
   "language": "python",
   "name": "python2"
  },
  "language_info": {
   "codemirror_mode": {
    "name": "ipython",
    "version": 2
   },
   "file_extension": ".py",
   "mimetype": "text/x-python",
   "name": "python",
   "nbconvert_exporter": "python",
   "pygments_lexer": "ipython2",
   "version": "2.7.13"
  }
 },
 "nbformat": 4,
 "nbformat_minor": 2
}
